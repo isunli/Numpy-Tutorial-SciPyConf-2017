{
 "cells": [
  {
   "cell_type": "code",
   "execution_count": 3,
   "metadata": {},
   "outputs": [
    {
     "name": "stdout",
     "output_type": "stream",
     "text": [
      "Prices for AAPL stock in 2008:\n",
      "[ 194.84  194.93  180.05  177.64  171.25  179.4   178.02  172.69  178.78\n",
      "  169.04  159.64  160.89  161.36  155.64  139.07  135.6   130.01  130.01\n",
      "  131.54  132.18  135.36  133.75  131.65  129.36  122.    121.24  125.48\n",
      "  129.45  124.86  129.4   127.46  124.63  122.18  123.82  121.54  119.46\n",
      "  119.74  119.15  122.96  129.91  125.02  121.73  124.62  124.49  120.93\n",
      "  122.25  119.69  127.35  126.03  127.94  126.61  126.73  132.82  129.67\n",
      "  133.27  139.53  140.98  145.06  140.25  143.01  143.5   149.53  147.49\n",
      "  151.61  153.08  155.89  152.84  151.44  154.55  147.14  147.78  148.38\n",
      "  153.7   154.49  161.04  168.16  160.2   162.89  168.94  169.73  172.24\n",
      "  175.05  173.95  180.    180.94  184.73  186.66  182.59  185.06  183.45\n",
      "  188.16  189.96  186.26  189.73  187.62  183.6   185.9   178.19  177.05\n",
      "  181.17  186.43  187.01  186.69  188.75  186.1   185.37  185.19  189.43\n",
      "  185.64  181.61  185.64  180.81  173.26  172.37  176.84  181.43  178.75\n",
      "  180.9   175.27  173.16  173.25  177.39  168.26  170.09  167.44  174.68\n",
      "  168.18  170.12  175.16  179.55  174.25  176.63  172.58  173.88  169.64\n",
      "  172.81  171.81  165.15  166.29  162.02  166.26  159.03  162.12  154.4\n",
      "  157.08  159.88  158.95  156.66  153.23  160.64  164.19  163.57  169.55\n",
      "  173.56  176.73  179.3   179.32  175.74  175.39  173.53  175.84  174.29\n",
      "  176.79  172.55  173.64  174.67  173.74  169.53  166.19  166.96  161.22\n",
      "  160.18  157.92  151.68  151.61  152.65  148.94  140.36  139.88  127.83\n",
      "  134.09  140.91  131.05  126.84  128.71  131.93  128.24  105.26  113.66\n",
      "  109.12  100.1    97.07   98.14   89.16   89.79   88.74   96.8   110.26\n",
      "  104.08   97.95  101.89   97.4    98.44   91.49   96.87   98.23   96.38\n",
      "   92.09   99.91  104.55  111.04  107.59  106.96  110.99  103.3    99.1\n",
      "   98.24   95.88   94.77   90.12   96.44   90.24   88.14   89.91   86.29\n",
      "   80.49   82.58   92.95   90.8    95.     92.67   88.93   92.47   95.9\n",
      "   91.41   94.     99.72  100.06   98.21   95.     98.27   94.75   95.43\n",
      "   89.16   89.43   90.     85.74   86.38   85.04   85.81   86.61   86.29\n",
      "   85.35]\n"
     ]
    }
   ],
   "source": [
    "\"\"\"\n",
    "Calc return\n",
    "===========\n",
    "\n",
    "For a given stock, the return is connected to its close price p by\n",
    "\n",
    "         p(t) - p(t)\n",
    "ret(t) = -------------\n",
    "             p(t)\n",
    "\n",
    "The close price for Apple stock for all business days in 2008 is loaded for you\n",
    "from the data file `aapl_2008_close_values.csv`.\n",
    "\n",
    "\n",
    "Note: a for loop is neither necessary nor recommended for this calculation\n",
    "\n",
    "Bonus\n",
    "~~~~~\n",
    "3. There is some blank space in the plot made in question 2 because by default,\n",
    "matplotlib displays plots with a range along the x axis that is larger than the\n",
    "highest x coordinate. Use IPython to learn about matplotlib's `plt.xlim` function\n",
    "and make the limits of your plot tighter.\n",
    "\"\"\"\n",
    "\n",
    "from numpy import arange, loadtxt, zeros\n",
    "import matplotlib.pyplot as plt\n",
    "\n",
    "prices = loadtxt(\"exercises/calc_return/aapl_2008_close_values.csv\", usecols=[1], delimiter=\",\")\n",
    "\n",
    "print(\"Prices for AAPL stock in 2008:\")\n",
    "print(prices)\n"
   ]
  },
  {
   "cell_type": "code",
   "execution_count": 5,
   "metadata": {},
   "outputs": [
    {
     "data": {
      "text/plain": [
       "array([  4.61917471e-04,  -7.63350946e-02,  -1.33851708e-02,\n",
       "        -3.59716280e-02,   4.75912409e-02,  -7.69230769e-03,\n",
       "        -2.99404561e-02,   3.52655047e-02,  -5.44803669e-02,\n",
       "        -5.56081401e-02,   7.83011776e-03,   2.92125054e-03,\n",
       "        -3.54486862e-02,  -1.06463634e-01,  -2.49514633e-02,\n",
       "        -4.12241888e-02,   0.00000000e+00,   1.17683255e-02,\n",
       "         4.86544017e-03,   2.40581026e-02,  -1.18942080e-02,\n",
       "        -1.57009346e-02,  -1.73946069e-02,  -5.68954855e-02,\n",
       "        -6.22950820e-03,   3.49719565e-02,   3.16385081e-02,\n",
       "        -3.54577057e-02,   3.63607240e-02,  -1.49922720e-02,\n",
       "        -2.22030441e-02,  -1.96581882e-02,   1.34228188e-02,\n",
       "        -1.84138265e-02,  -1.71137074e-02,   2.34388080e-03,\n",
       "        -4.92734258e-03,   3.19765002e-02,   5.65224463e-02,\n",
       "        -3.76414441e-02,  -2.63157895e-02,   2.37410663e-02,\n",
       "        -1.04317124e-03,  -2.85966744e-02,   1.09154056e-02,\n",
       "        -2.09406953e-02,   6.39986632e-02,  -1.03651355e-02,\n",
       "         1.51551218e-02,  -1.03954979e-02,   9.47792433e-04,\n",
       "         4.80549199e-02,  -2.37163078e-02,   2.77627824e-02,\n",
       "         4.69723118e-02,   1.03920304e-02,   2.89402752e-02,\n",
       "        -3.31586930e-02,   1.96791444e-02,   3.42633382e-03,\n",
       "         4.20209059e-02,  -1.36427473e-02,   2.79340972e-02,\n",
       "         9.69593035e-03,   1.83564149e-02,  -1.95650779e-02,\n",
       "        -9.15990578e-03,   2.05361859e-02,  -4.79456487e-02,\n",
       "         4.34959902e-03,   4.06008932e-03,   3.58538887e-02,\n",
       "         5.13988289e-03,   4.23975662e-02,   4.42126180e-02,\n",
       "        -4.73358706e-02,   1.67915106e-02,   3.71416293e-02,\n",
       "         4.67621641e-03,   1.47881930e-02,   1.63144450e-02,\n",
       "        -6.28391888e-03,   3.47801092e-02,   5.22222222e-03,\n",
       "         2.09461700e-02,   1.04476804e-02,  -2.18043502e-02,\n",
       "         1.35275754e-02,  -8.69988112e-03,   2.56745707e-02,\n",
       "         9.56632653e-03,  -1.94777848e-02,   1.86298722e-02,\n",
       "        -1.11210668e-02,  -2.14262872e-02,   1.25272331e-02,\n",
       "        -4.14739107e-02,  -6.39766541e-03,   2.32702626e-02,\n",
       "         2.90335044e-02,   3.11108727e-03,  -1.71113844e-03,\n",
       "         1.10343350e-02,  -1.40397351e-02,  -3.92262225e-03,\n",
       "        -9.71030911e-04,   2.28954047e-02,  -2.00073906e-02,\n",
       "        -2.17086835e-02,   2.21904080e-02,  -2.60180995e-02,\n",
       "        -4.17565400e-02,  -5.13678864e-03,   2.59325869e-02,\n",
       "         2.59556661e-02,  -1.47715372e-02,   1.20279720e-02,\n",
       "        -3.11221669e-02,  -1.20385691e-02,   5.19750520e-04,\n",
       "         2.38961039e-02,  -5.14685157e-02,   1.08760252e-02,\n",
       "        -1.55799871e-02,   4.32393693e-02,  -3.72108999e-02,\n",
       "         1.15352598e-02,   2.96261462e-02,   2.50627997e-02,\n",
       "        -2.95182400e-02,   1.36585366e-02,  -2.29292872e-02,\n",
       "         7.53273844e-03,  -2.43846331e-02,   1.86866305e-02,\n",
       "        -5.78670216e-03,  -3.87637507e-02,   6.90281562e-03,\n",
       "        -2.56780324e-02,   2.61696087e-02,  -4.34861061e-02,\n",
       "         1.94302962e-02,  -4.76190476e-02,   1.73575130e-02,\n",
       "         1.78253119e-02,  -5.81686265e-03,  -1.44070462e-02,\n",
       "        -2.18945487e-02,   4.83586765e-02,   2.20991036e-02,\n",
       "        -3.77611304e-03,   3.65592713e-02,   2.36508405e-02,\n",
       "         1.82645771e-02,   1.45419567e-02,   1.11544897e-04,\n",
       "        -1.99643096e-02,  -1.99157847e-03,  -1.06049376e-02,\n",
       "         1.33118193e-02,  -8.81483167e-03,   1.43439096e-02,\n",
       "        -2.39832570e-02,   6.31700956e-03,   5.93181295e-03,\n",
       "        -5.32432587e-03,  -2.42316105e-02,  -1.97015278e-02,\n",
       "         4.63325110e-03,  -3.43794921e-02,  -6.45081255e-03,\n",
       "        -1.41091272e-02,  -3.95136778e-02,  -4.61497890e-04,\n",
       "         6.85970582e-03,  -2.43039633e-02,  -5.76070901e-02,\n",
       "        -3.41977771e-03,  -8.61452674e-02,   4.89712900e-02,\n",
       "         5.08613618e-02,  -6.99737421e-02,  -3.21251431e-02,\n",
       "         1.47429833e-02,   2.50174812e-02,  -2.79693777e-02,\n",
       "        -1.79195259e-01,   7.98023941e-02,  -3.99436917e-02,\n",
       "        -8.26612903e-02,  -3.02697303e-02,   1.10229731e-02,\n",
       "        -9.15019360e-02,   7.06594886e-03,  -1.16939526e-02,\n",
       "         9.08271355e-02,   1.39049587e-01,  -5.60493379e-02,\n",
       "        -5.88970023e-02,   4.02246044e-02,  -4.40671312e-02,\n",
       "         1.06776181e-02,  -7.06013816e-02,   5.88042409e-02,\n",
       "         1.40394343e-02,  -1.88333503e-02,  -4.45113094e-02,\n",
       "         8.49169291e-02,   4.64417976e-02,   6.20755619e-02,\n",
       "        -3.10698847e-02,  -5.85556278e-03,   3.76776365e-02,\n",
       "        -6.92855212e-02,  -4.06582769e-02,  -8.67810293e-03,\n",
       "        -2.40228013e-02,  -1.15769712e-02,  -4.90661602e-02,\n",
       "         7.01287173e-02,  -6.42886769e-02,  -2.32712766e-02,\n",
       "         2.00816882e-02,  -4.02624847e-02,  -6.72152045e-02,\n",
       "         2.59659585e-02,   1.25575200e-01,  -2.31307154e-02,\n",
       "         4.62555066e-02,  -2.45263158e-02,  -4.03582605e-02,\n",
       "         3.98065895e-02,   3.70931113e-02,  -4.68196038e-02,\n",
       "         2.83338803e-02,   6.08510638e-02,   3.40954673e-03,\n",
       "        -1.84889067e-02,  -3.26850626e-02,   3.44210526e-02,\n",
       "        -3.58196805e-02,   7.17678100e-03,  -6.57026092e-02,\n",
       "         3.02826380e-03,   6.37370010e-03,  -4.73333333e-02,\n",
       "         7.46442734e-03,  -1.55128502e-02,   9.05456256e-03,\n",
       "         9.32292274e-03,  -3.69472347e-03,  -1.08934987e-02])"
      ]
     },
     "execution_count": 5,
     "metadata": {},
     "output_type": "execute_result"
    }
   ],
   "source": [
    "\n",
    "#1. Use these values to compute the corresponding daily return for every \n",
    "# business day of that year (except the first one).\n",
    "(prices[1:]-prices[:-1])/prices[:-1]\n",
    "\n"
   ]
  },
  {
   "cell_type": "code",
   "execution_count": null,
   "metadata": {},
   "outputs": [],
   "source": [
    "\n",
    "#2. Plot these returns, converted to percentages, over the course of the year.\n",
    "#On the same plot, draw a red line at 0."
   ]
  },
  {
   "cell_type": "code",
   "execution_count": 7,
   "metadata": {},
   "outputs": [
    {
     "data": {
      "text/plain": [
       "141.97901185770752"
      ]
     },
     "execution_count": 7,
     "metadata": {},
     "output_type": "execute_result"
    }
   ],
   "source": [
    "import numpy as np\n",
    "np.mean(prices)"
   ]
  },
  {
   "cell_type": "code",
   "execution_count": 8,
   "metadata": {},
   "outputs": [
    {
     "data": {
      "text/plain": [
       "33.665494483022535"
      ]
     },
     "execution_count": 8,
     "metadata": {},
     "output_type": "execute_result"
    }
   ],
   "source": [
    "np.std(prices)"
   ]
  },
  {
   "cell_type": "code",
   "execution_count": 9,
   "metadata": {},
   "outputs": [
    {
     "data": {
      "text/plain": [
       "194.93000000000001"
      ]
     },
     "execution_count": 9,
     "metadata": {},
     "output_type": "execute_result"
    }
   ],
   "source": [
    "np.max(prices)"
   ]
  },
  {
   "cell_type": "code",
   "execution_count": 10,
   "metadata": {},
   "outputs": [
    {
     "data": {
      "text/plain": [
       "225"
      ]
     },
     "execution_count": 10,
     "metadata": {},
     "output_type": "execute_result"
    }
   ],
   "source": [
    "np.argmin(prices)"
   ]
  },
  {
   "cell_type": "code",
   "execution_count": 11,
   "metadata": {},
   "outputs": [
    {
     "data": {
      "text/plain": [
       "1"
      ]
     },
     "execution_count": 11,
     "metadata": {},
     "output_type": "execute_result"
    }
   ],
   "source": [
    "np.argmax(prices)"
   ]
  },
  {
   "cell_type": "code",
   "execution_count": 12,
   "metadata": {},
   "outputs": [],
   "source": [
    "b = np.arange(12).reshape(4,3)"
   ]
  },
  {
   "cell_type": "code",
   "execution_count": 13,
   "metadata": {},
   "outputs": [
    {
     "data": {
      "text/plain": [
       "11"
      ]
     },
     "execution_count": 13,
     "metadata": {},
     "output_type": "execute_result"
    }
   ],
   "source": [
    "np.argmax(b) #1d postion"
   ]
  },
  {
   "cell_type": "code",
   "execution_count": 15,
   "metadata": {},
   "outputs": [
    {
     "data": {
      "text/plain": [
       "(3, 2)"
      ]
     },
     "execution_count": 15,
     "metadata": {},
     "output_type": "execute_result"
    }
   ],
   "source": [
    "np.unravel_index(np.argmax(b),b.shape)"
   ]
  },
  {
   "cell_type": "code",
   "execution_count": null,
   "metadata": {},
   "outputs": [],
   "source": [
    "\"\"\"\n",
    "Wind Statistics\n",
    "----------------\n",
    "\n",
    "Topics: Using array methods over different axes, fancy indexing.\n",
    "\n",
    "1. The data in 'wind.data' has the following format::\n",
    "\n",
    "        61  1  1 15.04 14.96 13.17  9.29 13.96  9.87 13.67 10.25 10.83 12.58 18.50 15.04\n",
    "        61  1  2 14.71 16.88 10.83  6.50 12.62  7.67 11.50 10.04  9.79  9.67 17.54 13.83\n",
    "        61  1  3 18.50 16.88 12.33 10.13 11.17  6.17 11.25  8.04  8.50  7.67 12.75 12.71\n",
    "\n",
    "   The first three columns are year, month and day.  The\n",
    "   remaining 12 columns are average windspeeds in knots at 12\n",
    "   locations in Ireland on that day.\n",
    "\n",
    "   Use the 'loadtxt' function from numpy to read the data into\n",
    "   an array.\n",
    "\n",
    "2. Calculate the min, max and mean windspeeds and standard deviation of the\n",
    "   windspeeds over all the locations and all the times (a single set of numbers\n",
    "   for the entire dataset).\n",
    "\n",
    "3. Calculate the min, max and mean windspeeds and standard deviations of the\n",
    "   windspeeds at each location over all the days (a different set of numbers\n",
    "   for each location)\n",
    "\n",
    "4. Calculate the min, max and mean windspeed and standard deviations of the\n",
    "   windspeeds across all the locations at each day (a different set of numbers\n",
    "   for each day)\n",
    "\n",
    "5. Find the location which has the greatest windspeed on each day (an integer\n",
    "   column number for each day).\n",
    "\n",
    "6. Find the year, month and day on which the greatest windspeed was recorded.\n",
    "\n",
    "7. Find the average windspeed in January for each location.\n",
    "\n",
    "You should be able to perform all of these operations without using a for\n",
    "loop or other looping construct.\n",
    "\n",
    "Bonus\n",
    "~~~~~\n",
    "\n",
    "1. Calculate the mean windspeed for each month in the dataset.  Treat\n",
    "   January 1961 and January 1962 as *different* months. (hint: first find a\n",
    "   way to create an identifier unique for each month. The second step might\n",
    "   require a for loop.)\n",
    "\n",
    "2. Calculate the min, max and mean windspeeds and standard deviations of the\n",
    "   windspeeds across all locations for each week (assume that the first week\n",
    "   starts on January 1 1961) for the first 52 weeks. This can be done without\n",
    "   any for loop.\n",
    "\n",
    "Bonus Bonus\n",
    "~~~~~~~~~~~\n",
    "\n",
    "Calculate the mean windspeed for each month without using a for loop.\n",
    "(Hint: look at `searchsorted` and `add.reduceat`.)\n",
    "\n",
    "Notes\n",
    "~~~~~\n",
    "\n",
    "These data were analyzed in detail in the following article:\n",
    "\n",
    "   Haslett, J. and Raftery, A. E. (1989). Space-time Modelling with\n",
    "   Long-memory Dependence: Assessing Ireland's Wind Power Resource\n",
    "   (with Discussion). Applied Statistics 38, 1-50.\n",
    "\n",
    "\n",
    "See :ref:`wind-statistics-solution`.\n",
    "\"\"\"\n",
    "\n",
    "from numpy import loadtxt\n",
    "\n"
   ]
  }
 ],
 "metadata": {
  "kernelspec": {
   "display_name": "Python 3",
   "language": "python",
   "name": "python3"
  },
  "language_info": {
   "codemirror_mode": {
    "name": "ipython",
    "version": 3
   },
   "file_extension": ".py",
   "mimetype": "text/x-python",
   "name": "python",
   "nbconvert_exporter": "python",
   "pygments_lexer": "ipython3",
   "version": "3.6.4"
  }
 },
 "nbformat": 4,
 "nbformat_minor": 2
}
