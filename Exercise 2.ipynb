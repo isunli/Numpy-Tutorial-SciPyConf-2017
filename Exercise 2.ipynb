{
 "cells": [
  {
   "cell_type": "code",
   "execution_count": 1,
   "metadata": {},
   "outputs": [],
   "source": [
    "import numpy as np"
   ]
  },
  {
   "cell_type": "code",
   "execution_count": 2,
   "metadata": {},
   "outputs": [],
   "source": [
    "a = np.arange(25).reshape(5,5)"
   ]
  },
  {
   "cell_type": "code",
   "execution_count": 3,
   "metadata": {},
   "outputs": [
    {
     "data": {
      "text/plain": [
       "array([ 1,  7, 13, 19])"
      ]
     },
     "execution_count": 3,
     "metadata": {},
     "output_type": "execute_result"
    }
   ],
   "source": [
    "a[[0,1,2,3],[1,2,3,4]]"
   ]
  },
  {
   "cell_type": "code",
   "execution_count": 4,
   "metadata": {},
   "outputs": [
    {
     "data": {
      "text/plain": [
       "array([ 0,  3,  6,  9, 12, 15, 18, 21, 24])"
      ]
     },
     "execution_count": 4,
     "metadata": {},
     "output_type": "execute_result"
    }
   ],
   "source": [
    "a[a%3==0]"
   ]
  },
  {
   "cell_type": "code",
   "execution_count": 12,
   "metadata": {},
   "outputs": [],
   "source": [
    "\"\"\"\n",
    "Dow Selection\n",
    "-------------\n",
    "\n",
    "Topics: Boolean array operators, sum function, where function, plotting.\n",
    "\n",
    "The array 'dow' is a 2-D array with each row holding the\n",
    "daily performance of the Dow Jones Industrial Average from the\n",
    "beginning of 2008 (dates have been removed for exercise simplicity).\n",
    "The array has the following structure::\n",
    "\n",
    "       OPEN      HIGH      LOW       CLOSE     VOLUME      ADJ_CLOSE\n",
    "       13261.82  13338.23  12969.42  13043.96  3452650000  13043.96\n",
    "       13044.12  13197.43  12968.44  13056.72  3429500000  13056.72\n",
    "       13046.56  13049.65  12740.51  12800.18  4166000000  12800.18\n",
    "       12801.15  12984.95  12640.44  12827.49  4221260000  12827.49\n",
    "       12820.9   12998.11  12511.03  12589.07  4705390000  12589.07\n",
    "       12590.21  12814.97  12431.53  12735.31  5351030000  12735.31\n",
    "\n",
    "0. The data has been loaded from a .csv file for you.\n",
    "1. Create a \"mask\" array that indicates which rows have a volume\n",
    "   greater than 5.5 billion.\n",
    "2. How many are there?  (hint: use sum).\n",
    "3. Find the index of every row (or day) where the volume is greater\n",
    "   than 5.5 billion. hint: look at the where() command.\n",
    "\n",
    "Bonus\n",
    "~~~~~\n",
    "\n",
    "1. Plot the adjusted close for *every* day in 2008.\n",
    "2. Now over-plot this plot with a 'red dot' marker for every\n",
    "   day where the volume was greater than 5.5 billion.\n",
    "\n",
    "See :ref:`dow-selection-solution`.\n",
    "\"\"\"\n",
    "\n",
    "pass"
   ]
  },
  {
   "cell_type": "code",
   "execution_count": 7,
   "metadata": {},
   "outputs": [],
   "source": [
    "from numpy import loadtxt, sum, where\n",
    "import matplotlib.pyplot as plt\n",
    "# Constants that indicate what data is held in each column of\n",
    "# the 'dow' array.\n",
    "OPEN = 0\n",
    "HIGH = 1\n",
    "LOW = 2\n",
    "CLOSE = 3\n",
    "VOLUME = 4\n",
    "ADJ_CLOSE = 5\n",
    "\n",
    "# 0. The data has been loaded from a .csv file for you.\n",
    "\n",
    "# 'dow' is our NumPy array that we will manipulate.\n",
    "dow = loadtxt('./exercises/dow_selection/dow.csv', delimiter=',')\n",
    "\n"
   ]
  },
  {
   "cell_type": "code",
   "execution_count": 9,
   "metadata": {},
   "outputs": [
    {
     "data": {
      "text/plain": [
       "(168, 6)"
      ]
     },
     "execution_count": 9,
     "metadata": {},
     "output_type": "execute_result"
    }
   ],
   "source": [
    "dow.shape"
   ]
  },
  {
   "cell_type": "code",
   "execution_count": null,
   "metadata": {},
   "outputs": [],
   "source": [
    "# 1. Create a \"mask\" array that indicates which rows have a volume\n",
    "#    greater than 5.5 billion.\n",
    "\n",
    "dow[dow>5.5e9]\n",
    "\n"
   ]
  },
  {
   "cell_type": "code",
   "execution_count": 11,
   "metadata": {},
   "outputs": [
    {
     "data": {
      "text/plain": [
       "array([[False, False, False, False, False, False],\n",
       "       [False, False, False, False, False, False],\n",
       "       [False, False, False, False, False, False],\n",
       "       ..., \n",
       "       [False, False, False, False, False, False],\n",
       "       [False, False, False, False, False, False],\n",
       "       [False, False, False, False, False, False]], dtype=bool)"
      ]
     },
     "execution_count": 11,
     "metadata": {},
     "output_type": "execute_result"
    }
   ],
   "source": [
    "dow>5.5e9"
   ]
  },
  {
   "cell_type": "code",
   "execution_count": 14,
   "metadata": {},
   "outputs": [
    {
     "data": {
      "text/plain": [
       "array([  3.45265000e+09,   3.42950000e+09,   4.16600000e+09,\n",
       "         4.22126000e+09,   4.70539000e+09,   5.35103000e+09,\n",
       "         5.17049000e+09,   4.49584000e+09,   3.68209000e+09,\n",
       "         4.60164000e+09,   5.44062000e+09,   5.30313000e+09,\n",
       "         6.00484000e+09,   6.54469000e+09,   3.24168000e+09,\n",
       "         5.73530000e+09,   4.88225000e+09,   4.10093000e+09,\n",
       "         4.23296000e+09,   4.74276000e+09,   4.97029000e+09,\n",
       "         4.65077000e+09,   3.49578000e+09,   4.31574000e+09,\n",
       "         4.00812000e+09,   4.58916000e+09,   3.76849000e+09,\n",
       "         3.59314000e+09,   4.04464000e+09,   3.85642000e+09,\n",
       "         3.64476000e+09,   3.58330000e+09,   3.61355000e+09,\n",
       "         3.87052000e+09,   3.69666000e+09,   3.57266000e+09,\n",
       "         3.86635000e+09,   4.09606000e+09,   3.90470000e+09,\n",
       "         3.93858000e+09,   4.42673000e+09,   4.11757000e+09,\n",
       "         4.75718000e+09,   4.27771000e+09,   4.32346000e+09,\n",
       "         4.56541000e+09,   4.26124000e+09,   5.10908000e+09,\n",
       "         4.41428000e+09,   5.07336000e+09,   5.15378000e+09,\n",
       "         5.68301000e+09,   5.33563000e+09,   1.20383000e+09,\n",
       "         6.14522000e+09,   4.49900000e+09,   4.14512000e+09,\n",
       "         4.05567000e+09,   4.03793000e+09,   3.68698000e+09,\n",
       "         4.18899000e+09,   4.74512000e+09,   4.32044000e+09,\n",
       "         3.92010000e+09,   3.70310000e+09,   3.74778000e+09,\n",
       "         3.60250000e+09,   3.55667000e+09,   3.68615000e+09,\n",
       "         3.72379000e+09,   3.56502000e+09,   3.58123000e+09,\n",
       "         4.26037000e+09,   3.71388000e+09,   4.22238000e+09,\n",
       "         3.42057000e+09,   3.82190000e+09,   4.10361000e+09,\n",
       "         4.46166000e+09,   3.89115000e+09,   3.60700000e+09,\n",
       "         3.81532000e+09,   4.50889000e+09,   4.44878000e+09,\n",
       "         3.95303000e+09,   3.41009000e+09,   3.92410000e+09,\n",
       "         4.07586000e+09,   3.82755000e+09,   3.51862000e+09,\n",
       "         3.37063000e+09,   4.01859000e+09,   3.97937000e+09,\n",
       "         3.83648000e+09,   3.84259000e+09,   3.68397000e+09,\n",
       "         3.85432000e+09,   4.51799000e+09,   3.95596000e+09,\n",
       "         3.51638000e+09,   3.58886000e+09,   3.92724000e+09,\n",
       "         3.89444000e+09,   3.84563000e+09,   3.71432000e+09,\n",
       "         4.39638000e+09,   4.33864000e+09,   4.35079000e+09,\n",
       "         4.77166000e+09,   4.40457000e+09,   4.63507000e+09,\n",
       "         4.77998000e+09,   4.73424000e+09,   4.08042000e+09,\n",
       "         3.70694000e+09,   3.80196000e+09,   4.57357000e+09,\n",
       "         4.81167000e+09,   5.32490000e+09,   4.18637000e+09,\n",
       "         4.70505000e+09,   4.82564000e+09,   5.23128000e+09,\n",
       "         6.20826000e+09,   5.03233000e+09,   5.84629000e+09,\n",
       "         5.27609000e+09,   3.24759000e+09,   5.26542000e+09,\n",
       "         6.03411000e+09,   5.18100000e+09,   5.84043000e+09,\n",
       "         6.74220000e+09,   5.43486000e+09,   7.36364000e+09,\n",
       "         6.73863040e+09,   7.36520960e+09,   5.65328000e+09,\n",
       "         4.63064000e+09,   6.18023000e+09,   6.70583000e+09,\n",
       "         6.12798000e+09,   4.67256000e+09,   4.28296000e+09,\n",
       "         5.41424000e+09,   5.63133000e+09,   5.34605000e+09,\n",
       "         4.68487000e+09,   4.56228000e+09,   1.21931000e+09,\n",
       "         4.87342000e+09,   5.31938000e+09,   4.96681000e+09,\n",
       "         5.06731000e+09,   4.71129000e+09,   4.78760000e+09,\n",
       "         4.06400000e+09,   4.04182000e+09,   3.82929000e+09,\n",
       "         4.15976000e+09,   4.55503000e+09,   4.03259000e+09,\n",
       "         3.74107000e+09,   3.42060000e+09,   3.58757000e+09,\n",
       "         3.49961000e+09,   3.85428000e+09,   3.28812000e+09])"
      ]
     },
     "execution_count": 14,
     "metadata": {},
     "output_type": "execute_result"
    }
   ],
   "source": [
    "dow[:,4]"
   ]
  },
  {
   "cell_type": "code",
   "execution_count": 16,
   "metadata": {},
   "outputs": [],
   "source": [
    "mask = dow[:,4]>5.5e9"
   ]
  },
  {
   "cell_type": "code",
   "execution_count": 17,
   "metadata": {},
   "outputs": [
    {
     "data": {
      "text/plain": [
       "18"
      ]
     },
     "execution_count": 17,
     "metadata": {},
     "output_type": "execute_result"
    }
   ],
   "source": [
    "# 2. How many are there?  (hint: use sum).\n",
    "np.sum(mask)"
   ]
  },
  {
   "cell_type": "code",
   "execution_count": 18,
   "metadata": {},
   "outputs": [
    {
     "data": {
      "text/plain": [
       "(array([ 12,  13,  15,  51,  54, 123, 125, 129, 131, 132, 134, 135, 136,\n",
       "        137, 139, 140, 141, 145]),)"
      ]
     },
     "execution_count": 18,
     "metadata": {},
     "output_type": "execute_result"
    }
   ],
   "source": [
    "\n",
    "\n",
    "# 3. Find the index of every row (or day) where the volume is greater\n",
    "#    than 5.5 billion. hint: look at the where() command.\n",
    "\n",
    "\n",
    "np.where(mask)"
   ]
  },
  {
   "cell_type": "code",
   "execution_count": 10,
   "metadata": {},
   "outputs": [],
   "source": [
    "\n",
    "# BONUS:\n",
    "# a. Plot the adjusted close for EVERY day in 2008.\n",
    "# b. Now over-plot this plot with a 'red dot' marker for every\n",
    "#    day where the volume was greater than 5.5 billion.\n",
    "\n",
    "\n"
   ]
  },
  {
   "cell_type": "code",
   "execution_count": null,
   "metadata": {},
   "outputs": [],
   "source": []
  }
 ],
 "metadata": {
  "kernelspec": {
   "display_name": "Python 3",
   "language": "python",
   "name": "python3"
  },
  "language_info": {
   "codemirror_mode": {
    "name": "ipython",
    "version": 3
   },
   "file_extension": ".py",
   "mimetype": "text/x-python",
   "name": "python",
   "nbconvert_exporter": "python",
   "pygments_lexer": "ipython3",
   "version": "3.6.4"
  }
 },
 "nbformat": 4,
 "nbformat_minor": 2
}
